{
  "nbformat": 4,
  "nbformat_minor": 0,
  "metadata": {
    "colab": {
      "name": "Jan 13, 20 Keras tf1 IMDB binary classification.ipynb",
      "provenance": []
    },
    "kernelspec": {
      "name": "python3",
      "display_name": "Python 3"
    },
    "accelerator": "GPU"
  },
  "cells": [
    {
      "cell_type": "markdown",
      "metadata": {
        "id": "Mi7-AsDnM1fo",
        "colab_type": "text"
      },
      "source": [
        "# Jan 13, 20 Keras tf1 IMDB binary classification\n",
        "* Name: Jikhan Jeong\n",
        "* Ref: https://github.com/fchollet/deep-learning-with-python-notebooks \n",
        "* https://nbviewer.jupyter.org/github/fchollet/deep-learning-with-python-notebooks/blob/master/3.5-classifying-movie-reviews.ipynb"
      ]
    },
    {
      "cell_type": "code",
      "metadata": {
        "id": "4skDnvqhMkzb",
        "colab_type": "code",
        "colab": {}
      },
      "source": [
        " %tensorflow_version 1.x # for using keras rather than tf.2\n",
        "from keras import layers\n",
        "layer = layers.Dense(32, input_shape=(784,))"
      ],
      "execution_count": 0,
      "outputs": []
    },
    {
      "cell_type": "code",
      "metadata": {
        "id": "GItxYOnOXzcV",
        "colab_type": "code",
        "colab": {}
      },
      "source": [
        "from keras import models\n",
        "from keras import layers"
      ],
      "execution_count": 0,
      "outputs": []
    },
    {
      "cell_type": "markdown",
      "metadata": {
        "id": "05Pm7t1EZb3s",
        "colab_type": "text"
      },
      "source": [
        "# 1. Sequential class"
      ]
    },
    {
      "cell_type": "code",
      "metadata": {
        "id": "gx2DiBJVYUpO",
        "colab_type": "code",
        "colab": {}
      },
      "source": [
        "# Demo\n",
        "model = models.Sequential()\n",
        "model.add(layers.Dense(32, input_shape=(784,)))\n",
        "model.add(layers.Dense(32, activation='relu')\n",
        "model.add(layers.Dense(10, activation='softmax'))"
      ],
      "execution_count": 0,
      "outputs": []
    },
    {
      "cell_type": "code",
      "metadata": {
        "id": "Wm2PLfioa0LN",
        "colab_type": "code",
        "colab": {}
      },
      "source": [
        "# Demo\n",
        "from keras import optimizers\n",
        "\n",
        "model.compile(optimizer=optimizers.RMSprop(lr=0.01),\n",
        "              loss='mse',\n",
        "              metrics=['accuracy'])"
      ],
      "execution_count": 0,
      "outputs": []
    },
    {
      "cell_type": "code",
      "metadata": {
        "id": "XEYhobCVbRrp",
        "colab_type": "code",
        "colab": {}
      },
      "source": [
        "# Demo\n",
        "model.fit(input_tensor, target_tensor, batch_size=128, epochs=10)"
      ],
      "execution_count": 0,
      "outputs": []
    },
    {
      "cell_type": "markdown",
      "metadata": {
        "id": "7C-pGRfRaWZW",
        "colab_type": "text"
      },
      "source": [
        "# 2. Functional API"
      ]
    },
    {
      "cell_type": "code",
      "metadata": {
        "id": "pz3-4j-UaYOv",
        "colab_type": "code",
        "colab": {}
      },
      "source": [
        "# Demo\n",
        "input_tensor = layers.Input(shape=(784,))\n",
        "x = layers.Dense(32, activation='relu')(input_tensor)\n",
        "output_tensor = layers.Dense(10, activation='softmax')(x)\n",
        "model = models.Model(input=input_tensor, output=output_tensor)"
      ],
      "execution_count": 0,
      "outputs": []
    },
    {
      "cell_type": "markdown",
      "metadata": {
        "id": "dyFoGk6dbiVN",
        "colab_type": "text"
      },
      "source": [
        "# Example: IMDB reviews classification\n",
        "* binary-class\n",
        "* multi-class"
      ]
    },
    {
      "cell_type": "code",
      "metadata": {
        "id": "cmX1kVMDbn0T",
        "colab_type": "code",
        "colab": {}
      },
      "source": [
        "from keras.datasets import imdb"
      ],
      "execution_count": 0,
      "outputs": []
    },
    {
      "cell_type": "code",
      "metadata": {
        "id": "uuHS70zobsUi",
        "colab_type": "code",
        "colab": {
          "base_uri": "https://localhost:8080/",
          "height": 52
        },
        "outputId": "3104a66f-4100-4a0a-ecb1-095103bebdc2"
      },
      "source": [
        "(train_data, train_labels), (test_data, test_labels) = imdb.load_data(num_words=10000)\n",
        "#  num_words=10000 means you’ll only keep the top 10,000 most frequently occurring words in the training data."
      ],
      "execution_count": 4,
      "outputs": [
        {
          "output_type": "stream",
          "text": [
            "Downloading data from https://s3.amazonaws.com/text-datasets/imdb.npz\n",
            "17465344/17464789 [==============================] - 1s 0us/step\n"
          ],
          "name": "stdout"
        }
      ]
    },
    {
      "cell_type": "code",
      "metadata": {
        "id": "UJ4sNXNxb6Zp",
        "colab_type": "code",
        "colab": {
          "base_uri": "https://localhost:8080/",
          "height": 72
        },
        "outputId": "f796bdf7-8d3b-4469-be78-e2fb30b73a37"
      },
      "source": [
        "# train_data and test_data are lists of reviews; each review is a list of word indices (encoding a sequence of words)\n",
        "# numpy data\n",
        "print(type(train_data), train_data[0])\n",
        "print(len(train_data[0]))"
      ],
      "execution_count": 14,
      "outputs": [
        {
          "output_type": "stream",
          "text": [
            "<class 'numpy.ndarray'> [1, 14, 22, 16, 43, 530, 973, 1622, 1385, 65, 458, 4468, 66, 3941, 4, 173, 36, 256, 5, 25, 100, 43, 838, 112, 50, 670, 2, 9, 35, 480, 284, 5, 150, 4, 172, 112, 167, 2, 336, 385, 39, 4, 172, 4536, 1111, 17, 546, 38, 13, 447, 4, 192, 50, 16, 6, 147, 2025, 19, 14, 22, 4, 1920, 4613, 469, 4, 22, 71, 87, 12, 16, 43, 530, 38, 76, 15, 13, 1247, 4, 22, 17, 515, 17, 12, 16, 626, 18, 2, 5, 62, 386, 12, 8, 316, 8, 106, 5, 4, 2223, 5244, 16, 480, 66, 3785, 33, 4, 130, 12, 16, 38, 619, 5, 25, 124, 51, 36, 135, 48, 25, 1415, 33, 6, 22, 12, 215, 28, 77, 52, 5, 14, 407, 16, 82, 2, 8, 4, 107, 117, 5952, 15, 256, 4, 2, 7, 3766, 5, 723, 36, 71, 43, 530, 476, 26, 400, 317, 46, 7, 4, 2, 1029, 13, 104, 88, 4, 381, 15, 297, 98, 32, 2071, 56, 26, 141, 6, 194, 7486, 18, 4, 226, 22, 21, 134, 476, 26, 480, 5, 144, 30, 5535, 18, 51, 36, 28, 224, 92, 25, 104, 4, 226, 65, 16, 38, 1334, 88, 12, 16, 283, 5, 16, 4472, 113, 103, 32, 15, 16, 5345, 19, 178, 32]\n",
            "218\n"
          ],
          "name": "stdout"
        }
      ]
    },
    {
      "cell_type": "code",
      "metadata": {
        "id": "9MJdDgLgcFVZ",
        "colab_type": "code",
        "colab": {
          "base_uri": "https://localhost:8080/",
          "height": 34
        },
        "outputId": "f5a7d710-aa0d-498c-d548-8865362c3330"
      },
      "source": [
        "train_labels[0]"
      ],
      "execution_count": 7,
      "outputs": [
        {
          "output_type": "execute_result",
          "data": {
            "text/plain": [
              "1"
            ]
          },
          "metadata": {
            "tags": []
          },
          "execution_count": 7
        }
      ]
    },
    {
      "cell_type": "code",
      "metadata": {
        "id": "SvhVQEX2cRZz",
        "colab_type": "code",
        "colab": {
          "base_uri": "https://localhost:8080/",
          "height": 34
        },
        "outputId": "9842dbc9-3635-40ea-f3c2-8f21c8033d2b"
      },
      "source": [
        "# Since we restricted ourselves to the top 10,000 most frequent words, no word index will exceed 10,000:\n",
        "max([max(sequence) for sequence in train_data])"
      ],
      "execution_count": 8,
      "outputs": [
        {
          "output_type": "execute_result",
          "data": {
            "text/plain": [
              "9999"
            ]
          },
          "metadata": {
            "tags": []
          },
          "execution_count": 8
        }
      ]
    },
    {
      "cell_type": "markdown",
      "metadata": {
        "id": "mK_4K_efc3gz",
        "colab_type": "text"
      },
      "source": [
        "# Preparing the data"
      ]
    },
    {
      "cell_type": "code",
      "metadata": {
        "id": "QHl-cJ-ncs7R",
        "colab_type": "code",
        "colab": {}
      },
      "source": [
        "import numpy as np"
      ],
      "execution_count": 0,
      "outputs": []
    },
    {
      "cell_type": "code",
      "metadata": {
        "id": "v0DWuvPbdFQR",
        "colab_type": "code",
        "colab": {}
      },
      "source": [
        "def vectorize_sequences(sequences, dimension=10000):\n",
        "    # Create an all-zero matrix of shape (len(sequences), dimension)\n",
        "    results = np.zeros((len(sequences), dimension))\n",
        "    for i, sequence in enumerate(sequences):\n",
        "        results[i, sequence] = 1.  # set specific indices of results[i] to 1s\n",
        "    return results"
      ],
      "execution_count": 0,
      "outputs": []
    },
    {
      "cell_type": "code",
      "metadata": {
        "id": "UOubaxsmdVRp",
        "colab_type": "code",
        "colab": {}
      },
      "source": [
        "# Our vectorized training data\n",
        "x_train = vectorize_sequences(train_data)\n",
        "# Our vectorized test data\n",
        "x_test = vectorize_sequences(test_data)"
      ],
      "execution_count": 0,
      "outputs": []
    },
    {
      "cell_type": "code",
      "metadata": {
        "id": "pepESiVDdYmk",
        "colab_type": "code",
        "colab": {
          "base_uri": "https://localhost:8080/",
          "height": 34
        },
        "outputId": "95cc201c-808a-48fd-d264-165be7c986a7"
      },
      "source": [
        "x_train[0]"
      ],
      "execution_count": 12,
      "outputs": [
        {
          "output_type": "execute_result",
          "data": {
            "text/plain": [
              "array([0., 1., 1., ..., 0., 0., 0.])"
            ]
          },
          "metadata": {
            "tags": []
          },
          "execution_count": 12
        }
      ]
    },
    {
      "cell_type": "code",
      "metadata": {
        "id": "k8Ja5Bd5da-p",
        "colab_type": "code",
        "colab": {}
      },
      "source": [
        "# Our vectorized labels\n",
        "y_train = np.asarray(train_labels).astype('float32')\n",
        "y_test = np.asarray(test_labels).astype('float32')"
      ],
      "execution_count": 0,
      "outputs": []
    },
    {
      "cell_type": "markdown",
      "metadata": {
        "id": "fUd-8taGd8a3",
        "colab_type": "text"
      },
      "source": [
        "# Building our network"
      ]
    },
    {
      "cell_type": "code",
      "metadata": {
        "id": "VMHqUiWUdhch",
        "colab_type": "code",
        "colab": {
          "base_uri": "https://localhost:8080/",
          "height": 142
        },
        "outputId": "8cdeec4e-579c-49a2-a24f-3ee74121d901"
      },
      "source": [
        "from keras import models\n",
        "from keras import layers\n",
        "\n",
        "model = models.Sequential()\n",
        "model.add(layers.Dense(16, activation='relu', input_shape=(10000,)))\n",
        "#  a simple stack of fully-connected (Dense) layers with relu activations: Dense(16, activation='relu')\n",
        "model.add(layers.Dense(16, activation='relu'))\n",
        "model.add(layers.Dense(1, activation='sigmoid'))"
      ],
      "execution_count": 15,
      "outputs": [
        {
          "output_type": "stream",
          "text": [
            "WARNING:tensorflow:From /usr/local/lib/python3.6/dist-packages/keras/backend/tensorflow_backend.py:66: The name tf.get_default_graph is deprecated. Please use tf.compat.v1.get_default_graph instead.\n",
            "\n",
            "WARNING:tensorflow:From /usr/local/lib/python3.6/dist-packages/keras/backend/tensorflow_backend.py:541: The name tf.placeholder is deprecated. Please use tf.compat.v1.placeholder instead.\n",
            "\n",
            "WARNING:tensorflow:From /usr/local/lib/python3.6/dist-packages/keras/backend/tensorflow_backend.py:4432: The name tf.random_uniform is deprecated. Please use tf.random.uniform instead.\n",
            "\n"
          ],
          "name": "stdout"
        }
      ]
    },
    {
      "cell_type": "code",
      "metadata": {
        "id": "Yf8p1NjKd5Gk",
        "colab_type": "code",
        "colab": {}
      },
      "source": [
        "from keras import optimizers\n",
        "\n",
        "model.compile(optimizer=optimizers.RMSprop(lr=0.001),\n",
        "              loss='binary_crossentropy',\n",
        "              metrics=['accuracy'])"
      ],
      "execution_count": 0,
      "outputs": []
    },
    {
      "cell_type": "markdown",
      "metadata": {
        "id": "RH3nq8TIesih",
        "colab_type": "text"
      },
      "source": [
        "# Validating our approach"
      ]
    },
    {
      "cell_type": "code",
      "metadata": {
        "id": "BUhLb2KVeaVq",
        "colab_type": "code",
        "colab": {
          "base_uri": "https://localhost:8080/",
          "height": 34
        },
        "outputId": "15310e7e-67f7-434d-96ea-13c96fc4a9ba"
      },
      "source": [
        "x_train.shape, y_train.shape"
      ],
      "execution_count": 19,
      "outputs": [
        {
          "output_type": "execute_result",
          "data": {
            "text/plain": [
              "((25000, 10000), (25000,))"
            ]
          },
          "metadata": {
            "tags": []
          },
          "execution_count": 19
        }
      ]
    },
    {
      "cell_type": "code",
      "metadata": {
        "id": "Bxa4J6ABe1sY",
        "colab_type": "code",
        "colab": {
          "base_uri": "https://localhost:8080/",
          "height": 34
        },
        "outputId": "5cbdfba1-f0d3-41ed-d8be-89437f9646e1"
      },
      "source": [
        "x_test.shape, y_test.shape"
      ],
      "execution_count": 20,
      "outputs": [
        {
          "output_type": "execute_result",
          "data": {
            "text/plain": [
              "((25000, 10000), (25000,))"
            ]
          },
          "metadata": {
            "tags": []
          },
          "execution_count": 20
        }
      ]
    },
    {
      "cell_type": "markdown",
      "metadata": {
        "id": "bz8JyAcqf2TY",
        "colab_type": "text"
      },
      "source": [
        "* spliting training set = validation, training_set"
      ]
    },
    {
      "cell_type": "code",
      "metadata": {
        "id": "FqgKP-AbfB6H",
        "colab_type": "code",
        "colab": {}
      },
      "source": [
        "x_val = x_train[:10000] # validation feature\n",
        "y_val = y_train[:10000] # validation label\n",
        "\n",
        "partial_x_train = x_train[10000:] # train_subset feature\n",
        "partial_y_train = y_train[10000:] # train_subset label "
      ],
      "execution_count": 0,
      "outputs": []
    },
    {
      "cell_type": "code",
      "metadata": {
        "id": "7ha30Ocjf95W",
        "colab_type": "code",
        "colab": {
          "base_uri": "https://localhost:8080/",
          "height": 52
        },
        "outputId": "eeffffd2-8a6b-4406-fd23-cb9792b47552"
      },
      "source": [
        "print(partial_x_train.shape)\n",
        "15000/512"
      ],
      "execution_count": 25,
      "outputs": [
        {
          "output_type": "stream",
          "text": [
            "(15000, 10000)\n"
          ],
          "name": "stdout"
        },
        {
          "output_type": "execute_result",
          "data": {
            "text/plain": [
              "29.296875"
            ]
          },
          "metadata": {
            "tags": []
          },
          "execution_count": 25
        }
      ]
    },
    {
      "cell_type": "code",
      "metadata": {
        "id": "x5coBzq5fUKg",
        "colab_type": "code",
        "colab": {
          "base_uri": "https://localhost:8080/",
          "height": 1000
        },
        "outputId": "20343cfe-3348-47c3-ae7e-57b6f9c21dce"
      },
      "source": [
        "\n",
        "history = model.fit(partial_x_train, # train_subset\n",
        "                    partial_y_train,\n",
        "                    epochs=20,       # epochs\n",
        "                    batch_size=512,  # batch_size\n",
        "                    validation_data=(x_val, y_val)) # validation set"
      ],
      "execution_count": 22,
      "outputs": [
        {
          "output_type": "stream",
          "text": [
            "WARNING:tensorflow:From /usr/local/lib/python3.6/dist-packages/keras/backend/tensorflow_backend.py:1033: The name tf.assign_add is deprecated. Please use tf.compat.v1.assign_add instead.\n",
            "\n",
            "WARNING:tensorflow:From /usr/local/lib/python3.6/dist-packages/keras/backend/tensorflow_backend.py:1020: The name tf.assign is deprecated. Please use tf.compat.v1.assign instead.\n",
            "\n",
            "WARNING:tensorflow:From /usr/local/lib/python3.6/dist-packages/keras/backend/tensorflow_backend.py:3005: The name tf.Session is deprecated. Please use tf.compat.v1.Session instead.\n",
            "\n",
            "Train on 15000 samples, validate on 10000 samples\n",
            "Epoch 1/20\n",
            "WARNING:tensorflow:From /usr/local/lib/python3.6/dist-packages/keras/backend/tensorflow_backend.py:190: The name tf.get_default_session is deprecated. Please use tf.compat.v1.get_default_session instead.\n",
            "\n",
            "WARNING:tensorflow:From /usr/local/lib/python3.6/dist-packages/keras/backend/tensorflow_backend.py:197: The name tf.ConfigProto is deprecated. Please use tf.compat.v1.ConfigProto instead.\n",
            "\n",
            "WARNING:tensorflow:From /usr/local/lib/python3.6/dist-packages/keras/backend/tensorflow_backend.py:207: The name tf.global_variables is deprecated. Please use tf.compat.v1.global_variables instead.\n",
            "\n",
            "WARNING:tensorflow:From /usr/local/lib/python3.6/dist-packages/keras/backend/tensorflow_backend.py:216: The name tf.is_variable_initialized is deprecated. Please use tf.compat.v1.is_variable_initialized instead.\n",
            "\n",
            "WARNING:tensorflow:From /usr/local/lib/python3.6/dist-packages/keras/backend/tensorflow_backend.py:223: The name tf.variables_initializer is deprecated. Please use tf.compat.v1.variables_initializer instead.\n",
            "\n",
            "15000/15000 [==============================] - 10s 689us/step - loss: 0.4942 - acc: 0.7863 - val_loss: 0.3721 - val_acc: 0.8588\n",
            "Epoch 2/20\n",
            "15000/15000 [==============================] - 1s 72us/step - loss: 0.2852 - acc: 0.9072 - val_loss: 0.2913 - val_acc: 0.8901\n",
            "Epoch 3/20\n",
            "15000/15000 [==============================] - 1s 70us/step - loss: 0.2111 - acc: 0.9293 - val_loss: 0.2814 - val_acc: 0.8859\n",
            "Epoch 4/20\n",
            "15000/15000 [==============================] - 1s 71us/step - loss: 0.1684 - acc: 0.9447 - val_loss: 0.2776 - val_acc: 0.8882\n",
            "Epoch 5/20\n",
            "15000/15000 [==============================] - 1s 72us/step - loss: 0.1361 - acc: 0.9559 - val_loss: 0.2840 - val_acc: 0.8888\n",
            "Epoch 6/20\n",
            "15000/15000 [==============================] - 1s 71us/step - loss: 0.1151 - acc: 0.9657 - val_loss: 0.3254 - val_acc: 0.8765\n",
            "Epoch 7/20\n",
            "15000/15000 [==============================] - 1s 71us/step - loss: 0.0944 - acc: 0.9719 - val_loss: 0.3216 - val_acc: 0.8823\n",
            "Epoch 8/20\n",
            "15000/15000 [==============================] - 1s 71us/step - loss: 0.0762 - acc: 0.9796 - val_loss: 0.3361 - val_acc: 0.8795\n",
            "Epoch 9/20\n",
            "15000/15000 [==============================] - 1s 71us/step - loss: 0.0660 - acc: 0.9819 - val_loss: 0.3604 - val_acc: 0.8801\n",
            "Epoch 10/20\n",
            "15000/15000 [==============================] - 1s 71us/step - loss: 0.0544 - acc: 0.9862 - val_loss: 0.4030 - val_acc: 0.8757\n",
            "Epoch 11/20\n",
            "15000/15000 [==============================] - 1s 71us/step - loss: 0.0448 - acc: 0.9892 - val_loss: 0.4276 - val_acc: 0.8684\n",
            "Epoch 12/20\n",
            "15000/15000 [==============================] - 1s 71us/step - loss: 0.0359 - acc: 0.9932 - val_loss: 0.4474 - val_acc: 0.8765\n",
            "Epoch 13/20\n",
            "15000/15000 [==============================] - 1s 72us/step - loss: 0.0303 - acc: 0.9937 - val_loss: 0.5196 - val_acc: 0.8661\n",
            "Epoch 14/20\n",
            "15000/15000 [==============================] - 1s 71us/step - loss: 0.0247 - acc: 0.9955 - val_loss: 0.5089 - val_acc: 0.8718\n",
            "Epoch 15/20\n",
            "15000/15000 [==============================] - 1s 71us/step - loss: 0.0198 - acc: 0.9971 - val_loss: 0.5582 - val_acc: 0.8630\n",
            "Epoch 16/20\n",
            "15000/15000 [==============================] - 1s 71us/step - loss: 0.0143 - acc: 0.9986 - val_loss: 0.5801 - val_acc: 0.8657\n",
            "Epoch 17/20\n",
            "15000/15000 [==============================] - 1s 71us/step - loss: 0.0131 - acc: 0.9983 - val_loss: 0.6084 - val_acc: 0.8672\n",
            "Epoch 18/20\n",
            "15000/15000 [==============================] - 1s 70us/step - loss: 0.0108 - acc: 0.9986 - val_loss: 0.6433 - val_acc: 0.8668\n",
            "Epoch 19/20\n",
            "15000/15000 [==============================] - 1s 71us/step - loss: 0.0090 - acc: 0.9983 - val_loss: 0.6763 - val_acc: 0.8669\n",
            "Epoch 20/20\n",
            "15000/15000 [==============================] - 1s 71us/step - loss: 0.0075 - acc: 0.9984 - val_loss: 0.7036 - val_acc: 0.8659\n"
          ],
          "name": "stdout"
        }
      ]
    },
    {
      "cell_type": "code",
      "metadata": {
        "id": "6EcdVNAQfmFY",
        "colab_type": "code",
        "colab": {
          "base_uri": "https://localhost:8080/",
          "height": 34
        },
        "outputId": "54b96068-0858-4deb-b9fd-75c8a99cb4cc"
      },
      "source": [
        "history_dict = history.history\n",
        "history_dict.keys()"
      ],
      "execution_count": 23,
      "outputs": [
        {
          "output_type": "execute_result",
          "data": {
            "text/plain": [
              "dict_keys(['val_loss', 'val_acc', 'loss', 'acc'])"
            ]
          },
          "metadata": {
            "tags": []
          },
          "execution_count": 23
        }
      ]
    },
    {
      "cell_type": "code",
      "metadata": {
        "id": "XZ0I7DbwfwNp",
        "colab_type": "code",
        "colab": {
          "base_uri": "https://localhost:8080/",
          "height": 295
        },
        "outputId": "a33aa46f-34f3-41bf-9986-4dd3bb8b2df0"
      },
      "source": [
        "import matplotlib.pyplot as plt\n",
        "\n",
        "acc = history.history['acc']\n",
        "val_acc = history.history['val_acc']\n",
        "loss = history.history['loss']\n",
        "val_loss = history.history['val_loss']\n",
        "\n",
        "epochs = range(1, len(acc) + 1)\n",
        "\n",
        "# \"bo\" is for \"blue dot\"\n",
        "plt.plot(epochs, loss, 'bo', label='Training loss')\n",
        "# b is for \"solid blue line\"\n",
        "plt.plot(epochs, val_loss, 'b', label='Validation loss')\n",
        "plt.title('Training and validation loss')\n",
        "plt.xlabel('Epochs')\n",
        "plt.ylabel('Loss')\n",
        "plt.legend()\n",
        "\n",
        "plt.show()"
      ],
      "execution_count": 26,
      "outputs": [
        {
          "output_type": "display_data",
          "data": {
            "image/png": "[encoded data removed]",
            "text/plain": [
              "<Figure size 432x288 with 1 Axes>"
            ]
          },
          "metadata": {
            "tags": []
          }
        }
      ]
    },
    {
      "cell_type": "code",
      "metadata": {
        "id": "Wkb-uUsgh2dd",
        "colab_type": "code",
        "colab": {
          "base_uri": "https://localhost:8080/",
          "height": 295
        },
        "outputId": "74cd8371-e61f-4f31-fd87-891153a2e5cf"
      },
      "source": [
        "plt.clf()   # clear figure\n",
        "acc_values = history_dict['acc']\n",
        "val_acc_values = history_dict['val_acc']\n",
        "\n",
        "plt.plot(epochs, acc, 'bo', label='Training acc')\n",
        "plt.plot(epochs, val_acc, 'b', label='Validation acc')\n",
        "plt.title('Training and validation accuracy')\n",
        "plt.xlabel('Epochs')\n",
        "plt.ylabel('Loss')\n",
        "plt.legend()\n",
        "\n",
        "plt.show()"
      ],
      "execution_count": 27,
      "outputs": [
        {
          "output_type": "display_data",
          "data": {
            "image/png": "[encoded data removed]",
            "text/plain": [
              "<Figure size 432x288 with 1 Axes>"
            ]
          },
          "metadata": {
            "tags": []
          }
        }
      ]
    },
    {
      "cell_type": "markdown",
      "metadata": {
        "id": "stdWvFmJi4Zo",
        "colab_type": "text"
      },
      "source": [
        "# Analysis\n",
        "* validation acc is decrease after 2 epoch so 2 epoch is the best hyperparameter"
      ]
    },
    {
      "cell_type": "markdown",
      "metadata": {
        "id": "KpLlTmJ8jNVX",
        "colab_type": "text"
      },
      "source": [
        "# Test Set"
      ]
    },
    {
      "cell_type": "code",
      "metadata": {
        "id": "AFxjnBxAh8VA",
        "colab_type": "code",
        "colab": {
          "base_uri": "https://localhost:8080/",
          "height": 175
        },
        "outputId": "7205a3cb-a5eb-4b33-aae6-d83f8c40fd34"
      },
      "source": [
        "model1 = models.Sequential()\n",
        "model1.add(layers.Dense(16, activation='relu', input_shape=(10000,)))\n",
        "model1.add(layers.Dense(16, activation='relu'))\n",
        "model1.add(layers.Dense(1, activation='sigmoid'))\n",
        "\n",
        "model1.compile(optimizer='rmsprop',\n",
        "              loss='binary_crossentropy',\n",
        "              metrics=['accuracy'])\n",
        "\n",
        "history1 = model1.fit(x_train, y_train, epochs=4, batch_size=512)\n",
        "results = model1.evaluate(x_test, y_test) # result =[loss, correct]"
      ],
      "execution_count": 42,
      "outputs": [
        {
          "output_type": "stream",
          "text": [
            "Epoch 1/4\n",
            "25000/25000 [==============================] - 1s 54us/step - loss: 0.4503 - acc: 0.8237\n",
            "Epoch 2/4\n",
            "25000/25000 [==============================] - 1s 45us/step - loss: 0.2583 - acc: 0.9114\n",
            "Epoch 3/4\n",
            "25000/25000 [==============================] - 1s 45us/step - loss: 0.1979 - acc: 0.9280\n",
            "Epoch 4/4\n",
            "25000/25000 [==============================] - 1s 45us/step - loss: 0.1660 - acc: 0.9403\n",
            "25000/25000 [==============================] - 2s 78us/step\n"
          ],
          "name": "stdout"
        }
      ]
    },
    {
      "cell_type": "code",
      "metadata": {
        "id": "2P0K998Ylgc6",
        "colab_type": "code",
        "colab": {
          "base_uri": "https://localhost:8080/",
          "height": 34
        },
        "outputId": "a737205c-cc9c-45e7-9d6d-ab10fcac2274"
      },
      "source": [
        "a = 0.8182+ 0.9132+ 0.9292+0.9408\n",
        "a/4"
      ],
      "execution_count": 40,
      "outputs": [
        {
          "output_type": "execute_result",
          "data": {
            "text/plain": [
              "0.90035"
            ]
          },
          "metadata": {
            "tags": []
          },
          "execution_count": 40
        }
      ]
    },
    {
      "cell_type": "code",
      "metadata": {
        "id": "ao2ZyZI_l7HA",
        "colab_type": "code",
        "colab": {
          "base_uri": "https://localhost:8080/",
          "height": 34
        },
        "outputId": "1cec4207-1ff2-42cd-a8b2-02e3f342f3b1"
      },
      "source": [
        "print(model1.metrics_names)"
      ],
      "execution_count": 44,
      "outputs": [
        {
          "output_type": "stream",
          "text": [
            "['loss', 'acc']\n"
          ],
          "name": "stdout"
        }
      ]
    },
    {
      "cell_type": "code",
      "metadata": {
        "id": "OFNiD-icjPLA",
        "colab_type": "code",
        "colab": {
          "base_uri": "https://localhost:8080/",
          "height": 34
        },
        "outputId": "dd6c009b-fe75-467b-cd58-1052c34dac1a"
      },
      "source": [
        "results\n",
        "# 0.87652 correct"
      ],
      "execution_count": 45,
      "outputs": [
        {
          "output_type": "execute_result",
          "data": {
            "text/plain": [
              "[0.33258832796096804, 0.87164]"
            ]
          },
          "metadata": {
            "tags": []
          },
          "execution_count": 45
        }
      ]
    },
    {
      "cell_type": "code",
      "metadata": {
        "id": "wNLej8nmj96Z",
        "colab_type": "code",
        "colab": {
          "base_uri": "https://localhost:8080/",
          "height": 34
        },
        "outputId": "8b00980d-50c9-461d-b6e3-76fb966ad116"
      },
      "source": [
        "history_dict1 = history1.history\n",
        "history_dict1.keys()"
      ],
      "execution_count": 46,
      "outputs": [
        {
          "output_type": "execute_result",
          "data": {
            "text/plain": [
              "dict_keys(['loss', 'acc'])"
            ]
          },
          "metadata": {
            "tags": []
          },
          "execution_count": 46
        }
      ]
    },
    {
      "cell_type": "code",
      "metadata": {
        "id": "qIxgo4LZjdut",
        "colab_type": "code",
        "colab": {
          "base_uri": "https://localhost:8080/",
          "height": 295
        },
        "outputId": "06682553-f8d0-4b11-e937-b9889ca4e062"
      },
      "source": [
        "plt.clf()   # clear figure\n",
        "acc_values = history_dict1['acc']\n",
        "epo = [1,2,3,4]\n",
        "plt.plot(epo, acc_values, 'bo', label='Test acc')\n",
        "plt.title('Test accuracy')\n",
        "plt.xlabel('Epochs')\n",
        "plt.ylabel('ACC')\n",
        "plt.legend()\n",
        "plt.show()"
      ],
      "execution_count": 47,
      "outputs": [
        {
          "output_type": "display_data",
          "data": {
            "image/png": "[encoded data removed]",
            "text/plain": [
              "<Figure size 432x288 with 1 Axes>"
            ]
          },
          "metadata": {
            "tags": []
          }
        }
      ]
    },
    {
      "cell_type": "markdown",
      "metadata": {
        "id": "t54KPYyunfEY",
        "colab_type": "text"
      },
      "source": [
        "#  Why Training loss and acc and evaluation acc are different?\n",
        "\n",
        "Why is the training loss much higher than the testing loss?\n",
        "A Keras model has two modes: training and testing. Regularization mechanisms, such as Dropout and L1/L2 weight regularization, are turned off at testing time.\n",
        "\n",
        "Besides, the training loss is the average of the losses over each batch of training data. Because your model is changing over time, the loss over the first batches of an epoch is generally higher than over the last batches. On the other hand, the testing loss for an epoch is computed using the model as it is at the end of the epoch, resulting in a lower loss.\n",
        "\n",
        "* Ref: https://keras.io/getting-started/faq/#why-is-the-training-loss-much-higher-than-the-testing-loss\n",
        "\n",
        "* Ref: https://stackoverflow.com/questions/51299836/what-values-are-returned-from-model-evaluate-in-keras/51303340"
      ]
    },
    {
      "cell_type": "markdown",
      "metadata": {
        "id": "pX-lKrOon0_j",
        "colab_type": "text"
      },
      "source": [
        "# Using a trained network to generate predictions on new data"
      ]
    },
    {
      "cell_type": "code",
      "metadata": {
        "id": "j0tSpWVjkTiB",
        "colab_type": "code",
        "colab": {
          "base_uri": "https://localhost:8080/",
          "height": 140
        },
        "outputId": "ab7c1dca-4d8e-4d48-8c18-b157c681f664"
      },
      "source": [
        "model1.predict(x_test)"
      ],
      "execution_count": 48,
      "outputs": [
        {
          "output_type": "execute_result",
          "data": {
            "text/plain": [
              "array([[0.10885853],\n",
              "       [0.99836767],\n",
              "       [0.5266063 ],\n",
              "       ...,\n",
              "       [0.06359467],\n",
              "       [0.02754697],\n",
              "       [0.46243757]], dtype=float32)"
            ]
          },
          "metadata": {
            "tags": []
          },
          "execution_count": 48
        }
      ]
    },
    {
      "cell_type": "code",
      "metadata": {
        "id": "Mezu-5BHn36_",
        "colab_type": "code",
        "colab": {}
      },
      "source": [
        ""
      ],
      "execution_count": 0,
      "outputs": []
    }
  ]
}