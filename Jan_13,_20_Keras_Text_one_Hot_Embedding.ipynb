{
  "nbformat": 4,
  "nbformat_minor": 0,
  "metadata": {
    "colab": {
      "name": "Jan 13, 20 Keras Text one-Hot Embedding.ipynb",
      "provenance": [],
      "authorship_tag": "ABX9TyM58JhVsQer8TtxB0A23U0t",
      "include_colab_link": true
    },
    "kernelspec": {
      "name": "python3",
      "display_name": "Python 3"
    },
    "accelerator": "GPU"
  },
  "cells": [
    {
      "cell_type": "markdown",
      "metadata": {
        "id": "view-in-github",
        "colab_type": "text"
      },
      "source": [
        "<a href=\"https://colab.research.google.com/github/Jikhan-Jeong/2020_Keras_Deep_Learning/blob/master/Jan_13%2C_20_Keras_Text_one_Hot_Embedding.ipynb\" target=\"_parent\"><img src=\"https://colab.research.google.com/assets/colab-badge.svg\" alt=\"Open In Colab\"/></a>"
      ]
    },
    {
      "cell_type": "markdown",
      "metadata": {
        "id": "If4SVr8kKNYU",
        "colab_type": "text"
      },
      "source": [
        "# Jan 13, 20 Keras Text one-Hot Embedding\n",
        "* Name: Jikhan Jeong\n",
        "* Ref: https://github.com/fchollet/deep-learning-with-python-notebooks\n",
        "* Ref: https://nbviewer.jupyter.org/github/fchollet/deep-learning-with-python-notebooks/blob/master/6.1-one-hot-encoding-of-words-or-characters.ipynb\n",
        "----\n",
        "* By using the build-in-function in Keras, it is realtively easy to apply One-Hot Embedding in Keras"
      ]
    },
    {
      "cell_type": "code",
      "metadata": {
        "id": "mcb_vByandlm",
        "colab_type": "code",
        "colab": {
          "base_uri": "https://localhost:8080/",
          "height": 34
        },
        "outputId": "26c139c4-8c05-4c07-c04c-ed72781a825c"
      },
      "source": [
        "%tensorflow_version 1.x\n",
        "import keras\n",
        "keras.__version__"
      ],
      "execution_count": 4,
      "outputs": [
        {
          "output_type": "execute_result",
          "data": {
            "text/plain": [
              "'2.2.5'"
            ]
          },
          "metadata": {
            "tags": []
          },
          "execution_count": 4
        }
      ]
    },
    {
      "cell_type": "markdown",
      "metadata": {
        "id": "Z2I4mI1gmw6Z",
        "colab_type": "text"
      },
      "source": [
        "# One-Hot in Word Level"
      ]
    },
    {
      "cell_type": "code",
      "metadata": {
        "id": "GJPY21taHzgW",
        "colab_type": "code",
        "colab": {}
      },
      "source": [
        "import numpy as np\n",
        "\n",
        "# This is our initial data; one entry per \"sample\"\n",
        "# (in this toy example, a \"sample\" is just a sentence, but\n",
        "# it could be an entire document).\n",
        "samples = ['The cat sat on the mat.', 'The dog ate my homework.']\n",
        "\n",
        "# First, build an index of all tokens in the data.\n",
        "token_index = {}\n",
        "for sample in samples:\n",
        "    # We simply tokenize the samples via the `split` method.\n",
        "    # in real life, we would also strip punctuation and special characters\n",
        "    # from the samples.\n",
        "    for word in sample.split():\n",
        "        if word not in token_index:\n",
        "            # Assign a unique index to each unique word\n",
        "            token_index[word] = len(token_index) + 1\n",
        "            # Note that we don't attribute index 0 to anything.\n",
        "\n",
        "# Next, we vectorize our samples.\n",
        "# We will only consider the first `max_length` words in each sample.\n",
        "max_length = 10\n",
        "\n",
        "# This is where we store our results:\n",
        "results = np.zeros((len(samples), max_length, max(token_index.values()) + 1))\n",
        "for i, sample in enumerate(samples):\n",
        "    for j, word in list(enumerate(sample.split()))[:max_length]:\n",
        "        index = token_index.get(word)\n",
        "        results[i, j, index] = 1."
      ],
      "execution_count": 0,
      "outputs": []
    },
    {
      "cell_type": "markdown",
      "metadata": {
        "id": "GSThJcrcm1He",
        "colab_type": "text"
      },
      "source": [
        "# One-Hot in Character Level"
      ]
    },
    {
      "cell_type": "code",
      "metadata": {
        "id": "vfR3rXxWm0DE",
        "colab_type": "code",
        "colab": {}
      },
      "source": [
        "import string\n",
        "\n",
        "samples = ['The cat sat on the mat.', 'The dog ate my homework.']\n",
        "characters = string.printable  # All printable ASCII characters.\n",
        "token_index = dict(zip(characters, range(1, len(characters) + 1)))\n",
        "\n",
        "max_length = 50\n",
        "results = np.zeros((len(samples), max_length, max(token_index.values()) + 1))\n",
        "for i, sample in enumerate(samples):\n",
        "    for j, character in enumerate(sample[:max_length]):\n",
        "        index = token_index.get(character)\n",
        "        results[i, j, index] = 1."
      ],
      "execution_count": 0,
      "outputs": []
    },
    {
      "cell_type": "markdown",
      "metadata": {
        "id": "-5wVcN2xnQ3c",
        "colab_type": "text"
      },
      "source": [
        "# One-Hot Using Built-in function\n",
        "* from keras.preprocessing.text import Tokenizer"
      ]
    },
    {
      "cell_type": "code",
      "metadata": {
        "id": "5qWPZexynN9j",
        "colab_type": "code",
        "colab": {}
      },
      "source": [
        "from keras.preprocessing.text import Tokenizer"
      ],
      "execution_count": 0,
      "outputs": []
    },
    {
      "cell_type": "code",
      "metadata": {
        "id": "3OHA3fk-nY0z",
        "colab_type": "code",
        "colab": {}
      },
      "source": [
        "samples = ['The cat sat on the mat.', 'The dog ate my homework.']"
      ],
      "execution_count": 0,
      "outputs": []
    },
    {
      "cell_type": "markdown",
      "metadata": {
        "id": "ABUrmL2OoKw0",
        "colab_type": "text"
      },
      "source": [
        "###  A tokenizer, configured to only take into account the top-1000 most common words\n",
        "* 1. tokenizer = Tokenizer(num_words=)\n",
        "* 2. tokenizer.fit_on_texts(data)\n",
        "* 3. tokenizer.texts_to_sequences(data) # index matirx\n",
        "* 4. tokenizer.texts_to_matrix(data, mode='binary') # dummy"
      ]
    },
    {
      "cell_type": "code",
      "metadata": {
        "id": "dy2x0m7fnnIq",
        "colab_type": "code",
        "colab": {}
      },
      "source": [
        "# We create a tokenizer, configured to only take into account the top-1000 most common words\n",
        "tokenizer = Tokenizer(num_words=1000)"
      ],
      "execution_count": 0,
      "outputs": []
    },
    {
      "cell_type": "markdown",
      "metadata": {
        "id": "zLUGVRLSoGbk",
        "colab_type": "text"
      },
      "source": [
        "### This builds the word index"
      ]
    },
    {
      "cell_type": "code",
      "metadata": {
        "id": "V8qQof5_ntta",
        "colab_type": "code",
        "colab": {}
      },
      "source": [
        "# This builds the word index with the defined tokenizer by using Tokenizer built in function\n",
        "tokenizer.fit_on_texts(samples)"
      ],
      "execution_count": 0,
      "outputs": []
    },
    {
      "cell_type": "markdown",
      "metadata": {
        "id": "qHS9pl_-n_W3",
        "colab_type": "text"
      },
      "source": [
        "###  This turns strings into lists of integer indices."
      ]
    },
    {
      "cell_type": "code",
      "metadata": {
        "id": "h8CFUx3MnwhK",
        "colab_type": "code",
        "colab": {
          "base_uri": "https://localhost:8080/",
          "height": 34
        },
        "outputId": "6e794a29-2c2c-4c37-a283-c52c606d4675"
      },
      "source": [
        "# This turns strings into lists of integer indices.\n",
        "sequences = tokenizer.texts_to_sequences(samples)\n",
        "print('lists of integer indices: ', sequences)"
      ],
      "execution_count": 14,
      "outputs": [
        {
          "output_type": "stream",
          "text": [
            "lists of integer indices:  [[1, 2, 3, 4, 1, 5], [1, 6, 7, 8, 9]]\n"
          ],
          "name": "stdout"
        }
      ]
    },
    {
      "cell_type": "markdown",
      "metadata": {
        "id": "LzEFLrRUn8aI",
        "colab_type": "text"
      },
      "source": [
        "### The one-hot binary representations.\n",
        "* tokernizer.texts_to_matrix(data, mode='binary')"
      ]
    },
    {
      "cell_type": "code",
      "metadata": {
        "id": "AQDrHwMPn0_S",
        "colab_type": "code",
        "colab": {
          "base_uri": "https://localhost:8080/",
          "height": 52
        },
        "outputId": "2fb94278-5f75-45bc-f6eb-4a587eb0a9c4"
      },
      "source": [
        "# You could also directly get the one-hot binary representations.\n",
        "# Note that other vectorization modes than one-hot encoding are supported!\n",
        "one_hot_results = tokenizer.texts_to_matrix(samples, mode='binary')\n",
        "print('binary result of sample sentence with one-hot encoding: ', one_hot_results)"
      ],
      "execution_count": 13,
      "outputs": [
        {
          "output_type": "stream",
          "text": [
            "binary result of sample sentence with one-hot encoding:  [[0. 1. 1. ... 0. 0. 0.]\n",
            " [0. 1. 0. ... 0. 0. 0.]]\n"
          ],
          "name": "stdout"
        }
      ]
    },
    {
      "cell_type": "code",
      "metadata": {
        "id": "qti8SOwEn6E6",
        "colab_type": "code",
        "colab": {
          "base_uri": "https://localhost:8080/",
          "height": 52
        },
        "outputId": "76bb3ffe-9194-4de2-a7df-8d2a058356e8"
      },
      "source": [
        "# This is how you can recover the word index that was computed\n",
        "word_index = tokenizer.word_index\n",
        "print('Found %s unique tokens.' % len(word_index))\n",
        "print(word_index)"
      ],
      "execution_count": 11,
      "outputs": [
        {
          "output_type": "stream",
          "text": [
            "Found 9 unique tokens.\n",
            "{'the': 1, 'cat': 2, 'sat': 3, 'on': 4, 'mat': 5, 'dog': 6, 'ate': 7, 'my': 8, 'homework': 9}\n"
          ],
          "name": "stdout"
        }
      ]
    },
    {
      "cell_type": "code",
      "metadata": {
        "id": "7XBKHsDfoa_-",
        "colab_type": "code",
        "colab": {}
      },
      "source": [
        ""
      ],
      "execution_count": 0,
      "outputs": []
    }
  ]
}