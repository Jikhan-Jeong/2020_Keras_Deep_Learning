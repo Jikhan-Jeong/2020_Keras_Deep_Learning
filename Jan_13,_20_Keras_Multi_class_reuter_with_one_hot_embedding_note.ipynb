{
  "nbformat": 4,
  "nbformat_minor": 0,
  "metadata": {
    "colab": {
      "name": "Jan 13, 20 Keras Multi-class reuter with one-hot embedding.ipynb",
      "provenance": []
    },
    "kernelspec": {
      "name": "python3",
      "display_name": "Python 3"
    },
    "accelerator": "GPU"
  },
  "cells": [
    {
      "cell_type": "markdown",
      "metadata": {
        "id": "a4vXQeGdeCev",
        "colab_type": "text"
      },
      "source": [
        "# Jan 13, 20 Keras Multi-class reuter with one-hot embedding\n",
        "* Name: Jikhan Jeong\n",
        "* Ref: https://nbviewer.jupyter.org/github/fchollet/deep-learning-with-python-notebooks/blob/master/3.6-classifying-newswires.ipynb"
      ]
    },
    {
      "cell_type": "markdown",
      "metadata": {
        "id": "_mbAebLNfrZb",
        "colab_type": "text"
      },
      "source": [
        "# Multi-classes : 46 Categories\n",
        "* In a single-label, multi-class classification problem, your network should end with a softmax activation, so that it will output a probability distribution over the N output classes.\n",
        "Categorical crossentropy is almost always the loss function you should use for such problems. It minimizes the distance between the probability distributions output by the network, and the true distribution of the targets.\n",
        "* There are two ways to handle labels in multi-class classification: Encoding the labels via \"categorical encoding\" (also known as \"one-hot encoding\") and using categorical_crossentropy as your loss function. "
      ]
    },
    {
      "cell_type": "code",
      "metadata": {
        "id": "ryLmBwI-dP9X",
        "colab_type": "code",
        "colab": {
          "base_uri": "https://localhost:8080/",
          "height": 34
        },
        "outputId": "4221dc96-36f3-41a3-eace-fe90d3b0fefc"
      },
      "source": [
        "%tensorflow_version 1.x\n",
        "import keras\n",
        "keras.__version__"
      ],
      "execution_count": 2,
      "outputs": [
        {
          "output_type": "execute_result",
          "data": {
            "text/plain": [
              "'2.2.5'"
            ]
          },
          "metadata": {
            "tags": []
          },
          "execution_count": 2
        }
      ]
    },
    {
      "cell_type": "markdown",
      "metadata": {
        "id": "6JattTYafVI6",
        "colab_type": "text"
      },
      "source": [
        "# Preparing the data"
      ]
    },
    {
      "cell_type": "code",
      "metadata": {
        "id": "JPw8sD6oePbo",
        "colab_type": "code",
        "colab": {
          "base_uri": "https://localhost:8080/",
          "height": 116
        },
        "outputId": "593b4e10-d1ae-439d-e0a7-d26b999cb70f"
      },
      "source": [
        "from keras.datasets import reuters\n",
        "(train_data, train_labels), (test_data, test_labels) = reuters.load_data(num_words=10000)\n",
        "# num_words=10000 restricts the data to the 10,000 most frequently occurring words found in the data."
      ],
      "execution_count": 1,
      "outputs": [
        {
          "output_type": "stream",
          "text": [
            "Using TensorFlow backend.\n"
          ],
          "name": "stderr"
        },
        {
          "output_type": "display_data",
          "data": {
            "text/html": [
              "<p style=\"color: red;\">\n",
              "The default version of TensorFlow in Colab will soon switch to TensorFlow 2.x.<br>\n",
              "We recommend you <a href=\"https://www.tensorflow.org/guide/migrate\" target=\"_blank\">upgrade</a> now \n",
              "or ensure your notebook will continue to use TensorFlow 1.x via the <code>%tensorflow_version 1.x</code> magic:\n",
              "<a href=\"https://colab.research.google.com/notebooks/tensorflow_version.ipynb\" target=\"_blank\">more info</a>.</p>\n"
            ],
            "text/plain": [
              "<IPython.core.display.HTML object>"
            ]
          },
          "metadata": {
            "tags": []
          }
        },
        {
          "output_type": "stream",
          "text": [
            "Downloading data from https://s3.amazonaws.com/text-datasets/reuters.npz\n",
            "2113536/2110848 [==============================] - 1s 0us/step\n"
          ],
          "name": "stdout"
        }
      ]
    },
    {
      "cell_type": "code",
      "metadata": {
        "id": "DTgOeA7ZeqLJ",
        "colab_type": "code",
        "colab": {
          "base_uri": "https://localhost:8080/",
          "height": 34
        },
        "outputId": "32bb4e39-e924-4ad7-da5b-7609b33eb07d"
      },
      "source": [
        "len(train_data)"
      ],
      "execution_count": 2,
      "outputs": [
        {
          "output_type": "execute_result",
          "data": {
            "text/plain": [
              "8982"
            ]
          },
          "metadata": {
            "tags": []
          },
          "execution_count": 2
        }
      ]
    },
    {
      "cell_type": "code",
      "metadata": {
        "id": "gNvA8Nybexvv",
        "colab_type": "code",
        "colab": {
          "base_uri": "https://localhost:8080/",
          "height": 34
        },
        "outputId": "09d072db-e62c-4cd6-a24a-99d262eedfa8"
      },
      "source": [
        "len(test_data)"
      ],
      "execution_count": 3,
      "outputs": [
        {
          "output_type": "execute_result",
          "data": {
            "text/plain": [
              "2246"
            ]
          },
          "metadata": {
            "tags": []
          },
          "execution_count": 3
        }
      ]
    },
    {
      "cell_type": "code",
      "metadata": {
        "id": "h3pxhhN3gtNS",
        "colab_type": "code",
        "colab": {}
      },
      "source": [
        "import numpy as np\n",
        "\n",
        "def vectorize_sequences(sequences, dimension=10000):\n",
        "    results = np.zeros((len(sequences), dimension))\n",
        "    for i, sequence in enumerate(sequences):\n",
        "        results[i, sequence] = 1.\n",
        "    return results\n",
        "\n",
        "# Our vectorized training data\n",
        "x_train = vectorize_sequences(train_data)\n",
        "# Our vectorized test data\n",
        "x_test = vectorize_sequences(test_data)"
      ],
      "execution_count": 0,
      "outputs": []
    },
    {
      "cell_type": "code",
      "metadata": {
        "id": "4Xtfi8lFgzC2",
        "colab_type": "code",
        "colab": {
          "base_uri": "https://localhost:8080/",
          "height": 34
        },
        "outputId": "54319a2a-e2d7-4d64-ec79-59281e993e7a"
      },
      "source": [
        "x_train[0]"
      ],
      "execution_count": 14,
      "outputs": [
        {
          "output_type": "execute_result",
          "data": {
            "text/plain": [
              "array([0., 1., 1., ..., 0., 0., 0.])"
            ]
          },
          "metadata": {
            "tags": []
          },
          "execution_count": 14
        }
      ]
    },
    {
      "cell_type": "code",
      "metadata": {
        "id": "H9UNGjpmhAV5",
        "colab_type": "code",
        "colab": {
          "base_uri": "https://localhost:8080/",
          "height": 34
        },
        "outputId": "c0934b71-60bd-4879-a3ce-ab3857728d90"
      },
      "source": [
        "x_train.shape\n",
        "# 8982 sentences\n",
        "# 10000 embedding"
      ],
      "execution_count": 15,
      "outputs": [
        {
          "output_type": "execute_result",
          "data": {
            "text/plain": [
              "(8982, 10000)"
            ]
          },
          "metadata": {
            "tags": []
          },
          "execution_count": 15
        }
      ]
    },
    {
      "cell_type": "code",
      "metadata": {
        "id": "OHOzov66hJ9u",
        "colab_type": "code",
        "colab": {
          "base_uri": "https://localhost:8080/",
          "height": 34
        },
        "outputId": "79515f60-5ba3-4607-ab99-c6fa75eb9305"
      },
      "source": [
        "x_test.shape\n",
        "# 2246 sentences\n",
        "# 10000 embedding  dim"
      ],
      "execution_count": 16,
      "outputs": [
        {
          "output_type": "execute_result",
          "data": {
            "text/plain": [
              "(2246, 10000)"
            ]
          },
          "metadata": {
            "tags": []
          },
          "execution_count": 16
        }
      ]
    },
    {
      "cell_type": "code",
      "metadata": {
        "id": "ABS1tcqrezTn",
        "colab_type": "code",
        "colab": {}
      },
      "source": [
        "import numpy as np\n",
        "def to_one_hot(labels, dimension=46):\n",
        "    results = np.zeros((len(labels), dimension))\n",
        "    for i, label in enumerate(labels):\n",
        "        results[i, label] = 1.\n",
        "    return results\n",
        "\n",
        "# Our vectorized training labels\n",
        "one_hot_train_labels = to_one_hot(train_labels)\n",
        "# Our vectorized test labels\n",
        "one_hot_test_labels = to_one_hot(test_labels)"
      ],
      "execution_count": 0,
      "outputs": []
    },
    {
      "cell_type": "code",
      "metadata": {
        "id": "qljhTAzbfYoO",
        "colab_type": "code",
        "colab": {}
      },
      "source": [
        "# Built-in\n",
        "from keras.utils.np_utils import to_categorical\n",
        "\n",
        "one_hot_train_labels = to_categorical(train_labels)\n",
        "one_hot_test_labels = to_categorical(test_labels)"
      ],
      "execution_count": 0,
      "outputs": []
    },
    {
      "cell_type": "markdown",
      "metadata": {
        "id": "KcTV5OoSfyAx",
        "colab_type": "text"
      },
      "source": [
        "# Building neural network"
      ]
    },
    {
      "cell_type": "code",
      "metadata": {
        "id": "htJby9XOflHP",
        "colab_type": "code",
        "colab": {
          "base_uri": "https://localhost:8080/",
          "height": 142
        },
        "outputId": "d24754a7-a186-4fac-b1d4-c1822261bbc6"
      },
      "source": [
        "from keras import models\n",
        "from keras import layers\n",
        "\n",
        "model = models.Sequential()\n",
        "model.add(layers.Dense(64, activation='relu', input_shape=(10000,)))\n",
        "model.add(layers.Dense(64, activation='relu'))\n",
        "model.add(layers.Dense(46, activation='softmax'))"
      ],
      "execution_count": 8,
      "outputs": [
        {
          "output_type": "stream",
          "text": [
            "WARNING:tensorflow:From /usr/local/lib/python3.6/dist-packages/keras/backend/tensorflow_backend.py:66: The name tf.get_default_graph is deprecated. Please use tf.compat.v1.get_default_graph instead.\n",
            "\n",
            "WARNING:tensorflow:From /usr/local/lib/python3.6/dist-packages/keras/backend/tensorflow_backend.py:541: The name tf.placeholder is deprecated. Please use tf.compat.v1.placeholder instead.\n",
            "\n",
            "WARNING:tensorflow:From /usr/local/lib/python3.6/dist-packages/keras/backend/tensorflow_backend.py:4432: The name tf.random_uniform is deprecated. Please use tf.random.uniform instead.\n",
            "\n"
          ],
          "name": "stdout"
        }
      ]
    },
    {
      "cell_type": "code",
      "metadata": {
        "id": "5A9H-3zMgBKM",
        "colab_type": "code",
        "colab": {}
      },
      "source": [
        "model.compile(optimizer='rmsprop',\n",
        "              loss='categorical_crossentropy',\n",
        "              metrics=['accuracy'])\n",
        "\n",
        "# categorical_crossentropy measures the distance between two probability distributions: \n",
        "# in our case, between the probability distribution output by our network, and the true distribution of the label"
      ],
      "execution_count": 0,
      "outputs": []
    },
    {
      "cell_type": "markdown",
      "metadata": {
        "id": "6P9vi37mgWFD",
        "colab_type": "text"
      },
      "source": [
        "# Validating our approach"
      ]
    },
    {
      "cell_type": "code",
      "metadata": {
        "id": "B-Xeuv3UggHH",
        "colab_type": "code",
        "colab": {
          "base_uri": "https://localhost:8080/",
          "height": 34
        },
        "outputId": "983b97f9-c713-46f0-9baa-75444ad974d2"
      },
      "source": [
        "x_train.shape"
      ],
      "execution_count": 17,
      "outputs": [
        {
          "output_type": "execute_result",
          "data": {
            "text/plain": [
              "(8982, 10000)"
            ]
          },
          "metadata": {
            "tags": []
          },
          "execution_count": 17
        }
      ]
    },
    {
      "cell_type": "code",
      "metadata": {
        "id": "DgeeafHQgBuI",
        "colab_type": "code",
        "colab": {}
      },
      "source": [
        "x_val = x_train[:1000]               # Training subset\n",
        "y_val = one_hot_train_labels[:1000]\n",
        "\n",
        "partial_x_train = x_train[1000:]     # Validation set\n",
        "partial_y_train = one_hot_train_labels[1000:]"
      ],
      "execution_count": 0,
      "outputs": []
    },
    {
      "cell_type": "code",
      "metadata": {
        "id": "I8ZkvfvFhT-e",
        "colab_type": "code",
        "colab": {
          "base_uri": "https://localhost:8080/",
          "height": 1000
        },
        "outputId": "b63cc3e0-7b54-4f8b-f888-8eaedefa46f4"
      },
      "source": [
        "history = model.fit(partial_x_train,\n",
        "                    partial_y_train,\n",
        "                    epochs=20,\n",
        "                    batch_size=512,\n",
        "                    validation_data=(x_val, y_val))"
      ],
      "execution_count": 19,
      "outputs": [
        {
          "output_type": "stream",
          "text": [
            "WARNING:tensorflow:From /usr/local/lib/python3.6/dist-packages/tensorflow_core/python/ops/math_grad.py:1424: where (from tensorflow.python.ops.array_ops) is deprecated and will be removed in a future version.\n",
            "Instructions for updating:\n",
            "Use tf.where in 2.0, which has the same broadcast rule as np.where\n",
            "WARNING:tensorflow:From /usr/local/lib/python3.6/dist-packages/keras/backend/tensorflow_backend.py:1033: The name tf.assign_add is deprecated. Please use tf.compat.v1.assign_add instead.\n",
            "\n",
            "WARNING:tensorflow:From /usr/local/lib/python3.6/dist-packages/keras/backend/tensorflow_backend.py:1020: The name tf.assign is deprecated. Please use tf.compat.v1.assign instead.\n",
            "\n",
            "WARNING:tensorflow:From /usr/local/lib/python3.6/dist-packages/keras/backend/tensorflow_backend.py:3005: The name tf.Session is deprecated. Please use tf.compat.v1.Session instead.\n",
            "\n",
            "Train on 7982 samples, validate on 1000 samples\n",
            "Epoch 1/20\n",
            "WARNING:tensorflow:From /usr/local/lib/python3.6/dist-packages/keras/backend/tensorflow_backend.py:190: The name tf.get_default_session is deprecated. Please use tf.compat.v1.get_default_session instead.\n",
            "\n",
            "WARNING:tensorflow:From /usr/local/lib/python3.6/dist-packages/keras/backend/tensorflow_backend.py:197: The name tf.ConfigProto is deprecated. Please use tf.compat.v1.ConfigProto instead.\n",
            "\n",
            "WARNING:tensorflow:From /usr/local/lib/python3.6/dist-packages/keras/backend/tensorflow_backend.py:207: The name tf.global_variables is deprecated. Please use tf.compat.v1.global_variables instead.\n",
            "\n",
            "WARNING:tensorflow:From /usr/local/lib/python3.6/dist-packages/keras/backend/tensorflow_backend.py:216: The name tf.is_variable_initialized is deprecated. Please use tf.compat.v1.is_variable_initialized instead.\n",
            "\n",
            "WARNING:tensorflow:From /usr/local/lib/python3.6/dist-packages/keras/backend/tensorflow_backend.py:223: The name tf.variables_initializer is deprecated. Please use tf.compat.v1.variables_initializer instead.\n",
            "\n",
            "7982/7982 [==============================] - 10s 1ms/step - loss: 2.6745 - acc: 0.5400 - val_loss: 1.7720 - val_acc: 0.6390\n",
            "Epoch 2/20\n",
            "7982/7982 [==============================] - 0s 49us/step - loss: 1.4480 - acc: 0.7017 - val_loss: 1.3149 - val_acc: 0.7140\n",
            "Epoch 3/20\n",
            "7982/7982 [==============================] - 0s 48us/step - loss: 1.0545 - acc: 0.7740 - val_loss: 1.1447 - val_acc: 0.7470\n",
            "Epoch 4/20\n",
            "7982/7982 [==============================] - 0s 49us/step - loss: 0.8267 - acc: 0.8242 - val_loss: 1.0345 - val_acc: 0.7680\n",
            "Epoch 5/20\n",
            "7982/7982 [==============================] - 0s 49us/step - loss: 0.6561 - acc: 0.8632 - val_loss: 0.9655 - val_acc: 0.7920\n",
            "Epoch 6/20\n",
            "7982/7982 [==============================] - 0s 48us/step - loss: 0.5212 - acc: 0.8908 - val_loss: 0.9898 - val_acc: 0.7920\n",
            "Epoch 7/20\n",
            "7982/7982 [==============================] - 0s 50us/step - loss: 0.4194 - acc: 0.9132 - val_loss: 0.8932 - val_acc: 0.8090\n",
            "Epoch 8/20\n",
            "7982/7982 [==============================] - 0s 49us/step - loss: 0.3408 - acc: 0.9287 - val_loss: 0.9026 - val_acc: 0.8100\n",
            "Epoch 9/20\n",
            "7982/7982 [==============================] - 0s 49us/step - loss: 0.2815 - acc: 0.9386 - val_loss: 0.9131 - val_acc: 0.8040\n",
            "Epoch 10/20\n",
            "7982/7982 [==============================] - 0s 51us/step - loss: 0.2376 - acc: 0.9463 - val_loss: 0.9108 - val_acc: 0.8010\n",
            "Epoch 11/20\n",
            "7982/7982 [==============================] - 0s 48us/step - loss: 0.2057 - acc: 0.9506 - val_loss: 0.9144 - val_acc: 0.8190\n",
            "Epoch 12/20\n",
            "7982/7982 [==============================] - 0s 51us/step - loss: 0.1795 - acc: 0.9511 - val_loss: 0.9531 - val_acc: 0.8040\n",
            "Epoch 13/20\n",
            "7982/7982 [==============================] - 0s 49us/step - loss: 0.1653 - acc: 0.9533 - val_loss: 0.9548 - val_acc: 0.8090\n",
            "Epoch 14/20\n",
            "7982/7982 [==============================] - 0s 48us/step - loss: 0.1508 - acc: 0.9550 - val_loss: 0.9782 - val_acc: 0.7970\n",
            "Epoch 15/20\n",
            "7982/7982 [==============================] - 0s 50us/step - loss: 0.1397 - acc: 0.9560 - val_loss: 0.9677 - val_acc: 0.8070\n",
            "Epoch 16/20\n",
            "7982/7982 [==============================] - 0s 49us/step - loss: 0.1333 - acc: 0.9565 - val_loss: 1.0211 - val_acc: 0.7970\n",
            "Epoch 17/20\n",
            "7982/7982 [==============================] - 0s 49us/step - loss: 0.1272 - acc: 0.9562 - val_loss: 1.0134 - val_acc: 0.8020\n",
            "Epoch 18/20\n",
            "7982/7982 [==============================] - 0s 50us/step - loss: 0.1153 - acc: 0.9589 - val_loss: 1.0211 - val_acc: 0.8070\n",
            "Epoch 19/20\n",
            "7982/7982 [==============================] - 0s 48us/step - loss: 0.1185 - acc: 0.9574 - val_loss: 1.0362 - val_acc: 0.8050\n",
            "Epoch 20/20\n",
            "7982/7982 [==============================] - 0s 51us/step - loss: 0.1076 - acc: 0.9590 - val_loss: 1.0854 - val_acc: 0.8020\n"
          ],
          "name": "stdout"
        }
      ]
    },
    {
      "cell_type": "code",
      "metadata": {
        "id": "4-hZfVmWheZH",
        "colab_type": "code",
        "colab": {
          "base_uri": "https://localhost:8080/",
          "height": 295
        },
        "outputId": "0ed243b0-1b37-4cd3-a62e-163e579c71f2"
      },
      "source": [
        "import matplotlib.pyplot as plt\n",
        "\n",
        "loss = history.history['loss']\n",
        "val_loss = history.history['val_loss']\n",
        "\n",
        "epochs = range(1, len(loss) + 1)\n",
        "\n",
        "plt.plot(epochs, loss, 'bo', label='Training loss')\n",
        "plt.plot(epochs, val_loss, 'b', label='Validation loss')\n",
        "plt.title('Training and validation loss')\n",
        "plt.xlabel('Epochs')\n",
        "plt.ylabel('Loss')\n",
        "plt.legend()\n",
        "\n",
        "plt.show()"
      ],
      "execution_count": 20,
      "outputs": [
        {
          "output_type": "display_data",
          "data": {
            "image/png": "[encoded data removed]",
            "text/plain": [
              "<Figure size 432x288 with 1 Axes>"
            ]
          },
          "metadata": {
            "tags": []
          }
        }
      ]
    },
    {
      "cell_type": "code",
      "metadata": {
        "id": "gq1ozaBxhnLf",
        "colab_type": "code",
        "colab": {
          "base_uri": "https://localhost:8080/",
          "height": 295
        },
        "outputId": "8139ae84-1104-4b79-accf-66f06e0b1de8"
      },
      "source": [
        "plt.clf()   # clear figure\n",
        "\n",
        "acc = history.history['acc']\n",
        "val_acc = history.history['val_acc']\n",
        "\n",
        "plt.plot(epochs, acc, 'bo', label='Training acc')\n",
        "plt.plot(epochs, val_acc, 'b', label='Validation acc')\n",
        "plt.title('Training and validation accuracy')\n",
        "plt.xlabel('Epochs')\n",
        "plt.ylabel('Loss')\n",
        "plt.legend()\n",
        "\n",
        "plt.show()"
      ],
      "execution_count": 21,
      "outputs": [
        {
          "output_type": "display_data",
          "data": {
            "image/png": "[encoded data removed]",
            "text/plain": [
              "<Figure size 432x288 with 1 Axes>"
            ]
          },
          "metadata": {
            "tags": []
          }
        }
      ]
    },
    {
      "cell_type": "markdown",
      "metadata": {
        "id": "MTuMiisyhso6",
        "colab_type": "text"
      },
      "source": [
        "# Evaulation of Training Set\n",
        "* Epoch = 8 is the optimal \n",
        "* After 8 is overfitting"
      ]
    },
    {
      "cell_type": "markdown",
      "metadata": {
        "id": "GKBMAXwfhxwq",
        "colab_type": "text"
      },
      "source": [
        "# Test Set"
      ]
    },
    {
      "cell_type": "code",
      "metadata": {
        "id": "Bk5DFU0Dhrmf",
        "colab_type": "code",
        "colab": {
          "base_uri": "https://localhost:8080/",
          "height": 333
        },
        "outputId": "d460b659-2d04-4832-a4ff-3118abd2a170"
      },
      "source": [
        "model = models.Sequential()\n",
        "model.add(layers.Dense(64, activation='relu', input_shape=(10000,)))\n",
        "model.add(layers.Dense(64, activation='relu'))\n",
        "model.add(layers.Dense(46, activation='softmax'))\n",
        "\n",
        "model.compile(optimizer='rmsprop',\n",
        "              loss='categorical_crossentropy',\n",
        "              metrics=['accuracy'])\n",
        "model.fit(partial_x_train,\n",
        "          partial_y_train,\n",
        "          epochs=8, ################ Optimal Epochs \n",
        "          batch_size=512,\n",
        "          validation_data=(x_val, y_val))\n",
        "results = model.evaluate(x_test, one_hot_test_labels) ## Evaluation with test set\n",
        "# The following results is training set"
      ],
      "execution_count": 22,
      "outputs": [
        {
          "output_type": "stream",
          "text": [
            "Train on 7982 samples, validate on 1000 samples\n",
            "Epoch 1/8\n",
            "7982/7982 [==============================] - 1s 71us/step - loss: 2.6619 - acc: 0.5025 - val_loss: 1.7387 - val_acc: 0.6360\n",
            "Epoch 2/8\n",
            "7982/7982 [==============================] - 0s 50us/step - loss: 1.4251 - acc: 0.7061 - val_loss: 1.2895 - val_acc: 0.7130\n",
            "Epoch 3/8\n",
            "7982/7982 [==============================] - 0s 50us/step - loss: 1.0488 - acc: 0.7727 - val_loss: 1.1168 - val_acc: 0.7490\n",
            "Epoch 4/8\n",
            "7982/7982 [==============================] - 0s 48us/step - loss: 0.8263 - acc: 0.8210 - val_loss: 1.0232 - val_acc: 0.7710\n",
            "Epoch 5/8\n",
            "7982/7982 [==============================] - 0s 52us/step - loss: 0.6556 - acc: 0.8632 - val_loss: 0.9301 - val_acc: 0.8010\n",
            "Epoch 6/8\n",
            "7982/7982 [==============================] - 0s 48us/step - loss: 0.5255 - acc: 0.8909 - val_loss: 0.9104 - val_acc: 0.8130\n",
            "Epoch 7/8\n",
            "7982/7982 [==============================] - 0s 48us/step - loss: 0.4233 - acc: 0.9103 - val_loss: 0.8836 - val_acc: 0.8090\n",
            "Epoch 8/8\n",
            "7982/7982 [==============================] - 0s 48us/step - loss: 0.3489 - acc: 0.9235 - val_loss: 0.8759 - val_acc: 0.8050\n",
            "2246/2246 [==============================] - 0s 69us/step\n"
          ],
          "name": "stdout"
        }
      ]
    },
    {
      "cell_type": "code",
      "metadata": {
        "id": "WW33dl59lzSQ",
        "colab_type": "code",
        "colab": {
          "base_uri": "https://localhost:8080/",
          "height": 34
        },
        "outputId": "6151ff09-cd79-43f7-ef48-9b393898d142"
      },
      "source": [
        "print(model.metrics_names) "
      ],
      "execution_count": 26,
      "outputs": [
        {
          "output_type": "stream",
          "text": [
            "['loss', 'acc']\n"
          ],
          "name": "stdout"
        }
      ]
    },
    {
      "cell_type": "code",
      "metadata": {
        "id": "jQNTo9F8laEP",
        "colab_type": "code",
        "colab": {
          "base_uri": "https://localhost:8080/",
          "height": 34
        },
        "outputId": "9d89ae1f-8497-4bc1-fa61-c3bc52f7eac5"
      },
      "source": [
        "# Test acc approach reaches an accuracy of ~78%\n",
        "results # testset loss and acc"
      ],
      "execution_count": 24,
      "outputs": [
        {
          "output_type": "execute_result",
          "data": {
            "text/plain": [
              "[0.962723881245084, 0.7818343722172751]"
            ]
          },
          "metadata": {
            "tags": []
          },
          "execution_count": 24
        }
      ]
    },
    {
      "cell_type": "markdown",
      "metadata": {
        "id": "PFW9j6sLmJK-",
        "colab_type": "text"
      },
      "source": [
        "# Generating predictions on new data"
      ]
    },
    {
      "cell_type": "code",
      "metadata": {
        "id": "z3-5DOgJmHNT",
        "colab_type": "code",
        "colab": {}
      },
      "source": [
        "predictions = model.predict(x_test)"
      ],
      "execution_count": 0,
      "outputs": []
    },
    {
      "cell_type": "code",
      "metadata": {
        "id": "KeOqJQw8lej2",
        "colab_type": "code",
        "colab": {
          "base_uri": "https://localhost:8080/",
          "height": 34
        },
        "outputId": "a8bdb510-539f-41cb-e0e2-0fe3a67b5fd5"
      },
      "source": [
        "np.argmax(predictions[0]) # prediction results"
      ],
      "execution_count": 29,
      "outputs": [
        {
          "output_type": "execute_result",
          "data": {
            "text/plain": [
              "3"
            ]
          },
          "metadata": {
            "tags": []
          },
          "execution_count": 29
        }
      ]
    },
    {
      "cell_type": "code",
      "metadata": {
        "id": "WMdIFwewmQjW",
        "colab_type": "code",
        "colab": {
          "base_uri": "https://localhost:8080/",
          "height": 34
        },
        "outputId": "adb265a8-2026-4fc9-a2f4-93ea0fdd3411"
      },
      "source": [
        "np.argmax( one_hot_test_labels[0]) # the ground truth label "
      ],
      "execution_count": 32,
      "outputs": [
        {
          "output_type": "execute_result",
          "data": {
            "text/plain": [
              "3"
            ]
          },
          "metadata": {
            "tags": []
          },
          "execution_count": 32
        }
      ]
    },
    {
      "cell_type": "code",
      "metadata": {
        "id": "9eWoEr9JmVcF",
        "colab_type": "code",
        "colab": {}
      },
      "source": [
        ""
      ],
      "execution_count": 0,
      "outputs": []
    }
  ]
}